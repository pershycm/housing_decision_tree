{
 "cells": [
  {
   "cell_type": "code",
   "execution_count": 5,
   "metadata": {},
   "outputs": [],
   "source": [
    "def houseprice(sq_m, yr_old, bdrms):\n",
    "    if sq_m > 160:\n",
    "        if bdrms > 3:\n",
    "            if yr_old < 10:\n",
    "                print('price = 510')\n",
    "            else:\n",
    "                print('price = 382')\n",
    "        else:\n",
    "            if yr_old < 40:\n",
    "                print('price = 335')\n",
    "            else: \n",
    "                print('price = 312')\n",
    "    else:\n",
    "        if yr_old < 25:\n",
    "            if bdrms > 2:\n",
    "                print('price = 341')\n",
    "            else:\n",
    "                print('price = 258')\n",
    "        else:\n",
    "            if sq_m > 100:\n",
    "                print('price = 285')\n",
    "            else:\n",
    "                print('price = 217')\n",
    "                \n",
    "        "
   ]
  },
  {
   "cell_type": "code",
   "execution_count": 6,
   "metadata": {},
   "outputs": [
    {
     "name": "stdout",
     "output_type": "stream",
     "text": [
      "price = 382\n"
     ]
    }
   ],
   "source": [
    "houseprice(165, 25, 5)"
   ]
  },
  {
   "cell_type": "code",
   "execution_count": 7,
   "metadata": {},
   "outputs": [
    {
     "name": "stdout",
     "output_type": "stream",
     "text": [
      "price = 341\n"
     ]
    }
   ],
   "source": [
    "houseprice(115, 17, 3)"
   ]
  },
  {
   "cell_type": "code",
   "execution_count": 9,
   "metadata": {},
   "outputs": [
    {
     "name": "stdout",
     "output_type": "stream",
     "text": [
      "price = 312\n"
     ]
    }
   ],
   "source": [
    "houseprice(1800, 120, 3)"
   ]
  },
  {
   "cell_type": "code",
   "execution_count": null,
   "metadata": {},
   "outputs": [],
   "source": []
  }
 ],
 "metadata": {
  "kernelspec": {
   "display_name": "Python 3",
   "language": "python",
   "name": "python3"
  },
  "language_info": {
   "codemirror_mode": {
    "name": "ipython",
    "version": 3
   },
   "file_extension": ".py",
   "mimetype": "text/x-python",
   "name": "python",
   "nbconvert_exporter": "python",
   "pygments_lexer": "ipython3",
   "version": "3.6.5"
  }
 },
 "nbformat": 4,
 "nbformat_minor": 2
}
